{
 "cells": [
  {
   "cell_type": "code",
   "execution_count": 1,
   "id": "a58c3fb9",
   "metadata": {},
   "outputs": [],
   "source": [
    "import numpy as np\n",
    "import pandas as pd\n",
    "import tensorflow as tf\n",
    "from tensorflow import keras\n",
    "from tensorflow.keras.preprocessing.sequence import pad_sequences\n",
    "from sklearn.cluster import KMeans\n",
    "from tensorflow.keras.preprocessing.text import Tokenizer\n",
    "from tensorflow.keras.preprocessing import sequence\n",
    "from tensorflow.keras.utils import normalize, to_categorical\n",
    "from tensorflow.keras.models import Model, load_model\n",
    "from sklearn.preprocessing import LabelEncoder\n",
    "from sklearn.metrics import accuracy_score, mean_squared_error\n",
    "from sklearn.metrics import davies_bouldin_score, confusion_matrix, classification_report\n",
    "import seaborn as sns\n",
    "from collections import Counter\n",
    "import os\n",
    "import re\n",
    "import string\n",
    "import sys\n",
    "import joblib\n",
    "import nltk\n",
    "from nltk.corpus import stopwords\n",
    "from nltk.stem import WordNetLemmatizer, SnowballStemmer\n",
    "from nltk.tokenize import word_tokenize\n"
   ]
  },
  {
   "cell_type": "code",
   "execution_count": 2,
   "id": "15bf45e3",
   "metadata": {
    "scrolled": true
   },
   "outputs": [],
   "source": [
    "\"\"\"Function for preprocessing the text.\"\"\"\n",
    "stemmer = SnowballStemmer('english')\n",
    "def preprocess_text(text, stop_words):\n",
    "    \n",
    "    # Check if the text is not a string (e.g., NaN) and return an empty string in such cases\n",
    "    if not isinstance(text, str):\n",
    "        return ''\n",
    "    \n",
    "     # Remove special characters and digits\n",
    "    text = re.sub(r'[^\\w\\s]', '', str(text))\n",
    "    text = re.sub(r'\\d+', '', text)\n",
    "\n",
    "    # Tokenize text and remove stop words\n",
    "    tokens = word_tokenize(text.lower())\n",
    "    tokens = [token for token in tokens if token not in stop_words]\n",
    "\n",
    "    # Stemming\n",
    "    stemmed_tokens = [stemmer.stem(token) for token in tokens]\n",
    "\n",
    "    # Join tokens back into a string\n",
    "    preprocessed_text = ' '.join(tokens)\n",
    "    \n",
    "    return preprocessed_text\n",
    " "
   ]
  },
  {
   "cell_type": "code",
   "execution_count": 3,
   "id": "2c84a6a3",
   "metadata": {
    "scrolled": true
   },
   "outputs": [],
   "source": [
    "# Load Data\n",
    "MainDf = pd.read_csv('merged csv.csv', encoding='cp1252', on_bad_lines='skip')\n",
    "MainDf.drop_duplicates(inplace=True)\n",
    "# Preprocessing\n",
    "stop_words = set(stopwords.words('english'))\n",
    "data = np.array(MainDf['description'].apply(lambda x: preprocess_text(x, stop_words)))\n",
    "\n",
    "# Tokenization and Padding\n",
    "tokenizer = Tokenizer()\n",
    "tokenizer.fit_on_texts(data)\n"
   ]
  },
  {
   "cell_type": "code",
   "execution_count": 4,
   "id": "de4d7b9d",
   "metadata": {},
   "outputs": [],
   "source": [
    "max_len= 48\n",
    "# Load Labeled Data and Preprocess\n",
    "df = pd.read_csv('Test_data.csv')\n",
    "Labels = df['type']\n",
    "Label_data = df['description'].apply(lambda x: preprocess_text(x, stop_words))\n",
    "lb_sequences = tokenizer.texts_to_sequences(Label_data)\n",
    "lb_padded = pad_sequences(lb_sequences, padding='post', maxlen=max_len)\n",
    "Nor_lb_padded = normalize(lb_padded, axis=1)\n",
    "lb_new_data = np.reshape(Nor_lb_padded, (len(Nor_lb_padded), Nor_lb_padded.shape[1], 1))\n",
    "label_encoder = LabelEncoder()\n",
    "labels_Int = label_encoder.fit_transform(Labels)\n"
   ]
  },
  {
   "cell_type": "code",
   "execution_count": 12,
   "id": "792f5562",
   "metadata": {},
   "outputs": [
    {
     "name": "stdout",
     "output_type": "stream",
     "text": [
      "2/2 [==============================] - 1s 18ms/step\n"
     ]
    }
   ],
   "source": [
    "from tensorflow.keras.models import load_model\n",
    "import pickle\n",
    "# Load the CAE model\n",
    "encoder = load_model(\"Final_cae_model_Result18.keras\")\n",
    "\n",
    "Lb_encoded_test = encoder.predict(lb_new_data)\n",
    "exp_lb_encoded_test = np.reshape(Lb_encoded_test, newshape=(Lb_encoded_test.shape[0], -1))"
   ]
  },
  {
   "cell_type": "code",
   "execution_count": 13,
   "id": "fe36dd5d",
   "metadata": {},
   "outputs": [],
   "source": [
    "kmeans = joblib.load('kmeans_model_final9.pkl')\n",
    "\n",
    "lb_test_cluster_labels =  kmeans.predict(exp_lb_encoded_test)\n"
   ]
  },
  {
   "cell_type": "code",
   "execution_count": 14,
   "id": "430c2cef",
   "metadata": {},
   "outputs": [
    {
     "name": "stdout",
     "output_type": "stream",
     "text": [
      "Accuracy: 0.660377358490566\n",
      "Confusion Matrix:\n",
      "[[ 4  0  2  0]\n",
      " [ 0  0  6  1]\n",
      " [ 3  0  8  4]\n",
      " [ 0  0  2 23]]\n",
      "Classification Report:\n",
      "              precision    recall  f1-score   support\n",
      "\n",
      "           0       0.57      0.67      0.62         6\n",
      "           1       0.00      0.00      0.00         7\n",
      "           2       0.44      0.53      0.48        15\n",
      "           3       0.82      0.92      0.87        25\n",
      "\n",
      "    accuracy                           0.66        53\n",
      "   macro avg       0.46      0.53      0.49        53\n",
      "weighted avg       0.58      0.66      0.62        53\n",
      "\n"
     ]
    },
    {
     "name": "stderr",
     "output_type": "stream",
     "text": [
      "C:\\Users\\rohan\\anaconda3\\envs\\Deeplearning\\Lib\\site-packages\\sklearn\\metrics\\_classification.py:1469: UndefinedMetricWarning: Precision and F-score are ill-defined and being set to 0.0 in labels with no predicted samples. Use `zero_division` parameter to control this behavior.\n",
      "  _warn_prf(average, modifier, msg_start, len(result))\n",
      "C:\\Users\\rohan\\anaconda3\\envs\\Deeplearning\\Lib\\site-packages\\sklearn\\metrics\\_classification.py:1469: UndefinedMetricWarning: Precision and F-score are ill-defined and being set to 0.0 in labels with no predicted samples. Use `zero_division` parameter to control this behavior.\n",
      "  _warn_prf(average, modifier, msg_start, len(result))\n",
      "C:\\Users\\rohan\\anaconda3\\envs\\Deeplearning\\Lib\\site-packages\\sklearn\\metrics\\_classification.py:1469: UndefinedMetricWarning: Precision and F-score are ill-defined and being set to 0.0 in labels with no predicted samples. Use `zero_division` parameter to control this behavior.\n",
      "  _warn_prf(average, modifier, msg_start, len(result))\n"
     ]
    }
   ],
   "source": [
    "# Simple function to align cluster labels with true labels\n",
    "def align_cluster_labels_with_ground_truth(cluster_labels, true_labels):\n",
    "    aligned_labels = np.zeros_like(cluster_labels)\n",
    "    for i in np.unique(cluster_labels):\n",
    "        mask = (cluster_labels == i)\n",
    "        if np.sum(mask) == 0:  # This should handle the error, but ideally, this condition shouldn't occur\n",
    "            continue\n",
    "        aligned_labels[mask] = np.bincount(true_labels[mask]).argmax()\n",
    "    return aligned_labels\n",
    "\n",
    "aligned_cluster_labels = align_cluster_labels_with_ground_truth(lb_test_cluster_labels, labels_Int)\n",
    "\n",
    "# Evaluate\n",
    "accuracy = accuracy_score(labels_Int, aligned_cluster_labels)\n",
    "#nmi = normalized_mutual_info_score(labels_Int, aligned_cluster_labels)\n",
    "\n",
    "print(f\"Accuracy: {accuracy}\")\n",
    "\n",
    "\n",
    "# Create a confusion matrix\n",
    "conf_matrix = confusion_matrix(labels_Int, aligned_cluster_labels)\n",
    "\n",
    "# Print the confusion matrix\n",
    "print(\"Confusion Matrix:\")\n",
    "print(conf_matrix)\n",
    "\n",
    "# Calculate precision, recall, and F1-score\n",
    "report = classification_report(labels_Int, aligned_cluster_labels)\n",
    "print(\"Classification Report:\")\n",
    "print(report)\n",
    "\n",
    "\n"
   ]
  },
  {
   "cell_type": "code",
   "execution_count": 15,
   "id": "ffce47ac",
   "metadata": {},
   "outputs": [
    {
     "name": "stdout",
     "output_type": "stream",
     "text": [
      "Test set Davies-Bouldin score: 1.06907933796153\n"
     ]
    }
   ],
   "source": [
    "# Print the clustering evaluation metrics\n",
    "from sklearn.metrics import silhouette_score, davies_bouldin_score\n",
    "\n",
    "print('Test set Davies-Bouldin score:', davies_bouldin_score(exp_lb_encoded_test, aligned_cluster_labels))"
   ]
  },
  {
   "cell_type": "code",
   "execution_count": null,
   "id": "96af9eb1",
   "metadata": {},
   "outputs": [],
   "source": []
  },
  {
   "cell_type": "code",
   "execution_count": null,
   "id": "c58a82cc",
   "metadata": {},
   "outputs": [],
   "source": []
  },
  {
   "cell_type": "code",
   "execution_count": null,
   "id": "044ca8e7",
   "metadata": {},
   "outputs": [],
   "source": []
  },
  {
   "cell_type": "code",
   "execution_count": null,
   "id": "796682d7",
   "metadata": {},
   "outputs": [],
   "source": []
  }
 ],
 "metadata": {
  "kernelspec": {
   "display_name": "Python 3 (ipykernel)",
   "language": "python",
   "name": "python3"
  },
  "language_info": {
   "codemirror_mode": {
    "name": "ipython",
    "version": 3
   },
   "file_extension": ".py",
   "mimetype": "text/x-python",
   "name": "python",
   "nbconvert_exporter": "python",
   "pygments_lexer": "ipython3",
   "version": "3.11.4"
  }
 },
 "nbformat": 4,
 "nbformat_minor": 5
}
